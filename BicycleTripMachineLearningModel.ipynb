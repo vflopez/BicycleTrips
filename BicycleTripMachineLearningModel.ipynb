{
 "cells": [
  {
   "cell_type": "markdown",
   "metadata": {},
   "source": [
    "## <center>This Model will Attempt to Predict the Type of Bicycle Used from Trip Data</center>"
   ]
  },
  {
   "cell_type": "code",
   "execution_count": 1,
   "metadata": {},
   "outputs": [],
   "source": [
    "# Eliminating Warnings\n",
    "import warnings\n",
    "warnings.filterwarnings('ignore')"
   ]
  },
  {
   "cell_type": "code",
   "execution_count": 2,
   "metadata": {},
   "outputs": [],
   "source": [
    "# Importing Libraries\n",
    "import pandas as pd\n",
    "import numpy as np\n",
    "import os\n",
    "from pathlib import Path\n",
    "from collections import Counter\n",
    "from sklearn.preprocessing import LabelEncoder\n",
    "from sklearn.preprocessing import StandardScaler\n",
    "from sklearn.model_selection import train_test_split\n",
    "from imblearn.over_sampling import RandomOverSampler\n",
    "from sklearn.linear_model import LogisticRegression\n",
    "from sklearn.metrics import confusion_matrix\n",
    "from imblearn.metrics import classification_report_imbalanced\n",
    "from imblearn.over_sampling import SMOTE\n",
    "from sklearn.metrics import balanced_accuracy_score"
   ]
  },
  {
   "cell_type": "code",
   "execution_count": 3,
   "metadata": {},
   "outputs": [],
   "source": [
    "# Set up data path\n",
    "data_path = 'data'"
   ]
  },
  {
   "cell_type": "code",
   "execution_count": 4,
   "metadata": {},
   "outputs": [
    {
     "data": {
      "text/html": [
       "<div>\n",
       "<style scoped>\n",
       "    .dataframe tbody tr th:only-of-type {\n",
       "        vertical-align: middle;\n",
       "    }\n",
       "\n",
       "    .dataframe tbody tr th {\n",
       "        vertical-align: top;\n",
       "    }\n",
       "\n",
       "    .dataframe thead th {\n",
       "        text-align: right;\n",
       "    }\n",
       "</style>\n",
       "<table border=\"1\" class=\"dataframe\">\n",
       "  <thead>\n",
       "    <tr style=\"text-align: right;\">\n",
       "      <th></th>\n",
       "      <th>Date</th>\n",
       "      <th>Destination</th>\n",
       "      <th>Miles</th>\n",
       "      <th>Hours</th>\n",
       "      <th>Minutes</th>\n",
       "      <th>Duration</th>\n",
       "      <th>Speed</th>\n",
       "      <th>Type</th>\n",
       "    </tr>\n",
       "  </thead>\n",
       "  <tbody>\n",
       "    <tr>\n",
       "      <th>0</th>\n",
       "      <td>6/7/19</td>\n",
       "      <td>CP BL</td>\n",
       "      <td>7.47</td>\n",
       "      <td>NaN</td>\n",
       "      <td>54.0</td>\n",
       "      <td>0.90</td>\n",
       "      <td>8.30</td>\n",
       "      <td>Specialized</td>\n",
       "    </tr>\n",
       "    <tr>\n",
       "      <th>1</th>\n",
       "      <td>7/24/19</td>\n",
       "      <td>Down ES Up WS</td>\n",
       "      <td>16.29</td>\n",
       "      <td>2.0</td>\n",
       "      <td>36.0</td>\n",
       "      <td>2.60</td>\n",
       "      <td>6.27</td>\n",
       "      <td>Specialized</td>\n",
       "    </tr>\n",
       "    <tr>\n",
       "      <th>2</th>\n",
       "      <td>7/26/19</td>\n",
       "      <td>To Essex Market</td>\n",
       "      <td>3.14</td>\n",
       "      <td>NaN</td>\n",
       "      <td>27.0</td>\n",
       "      <td>0.45</td>\n",
       "      <td>6.98</td>\n",
       "      <td>Citibike</td>\n",
       "    </tr>\n",
       "    <tr>\n",
       "      <th>3</th>\n",
       "      <td>9/23/16</td>\n",
       "      <td>Citibike to Work</td>\n",
       "      <td>1.10</td>\n",
       "      <td>NaN</td>\n",
       "      <td>11.0</td>\n",
       "      <td>0.18</td>\n",
       "      <td>6.00</td>\n",
       "      <td>Citibike</td>\n",
       "    </tr>\n",
       "    <tr>\n",
       "      <th>4</th>\n",
       "      <td>8/9/16</td>\n",
       "      <td>Citibike to Work</td>\n",
       "      <td>1.31</td>\n",
       "      <td>NaN</td>\n",
       "      <td>11.0</td>\n",
       "      <td>0.18</td>\n",
       "      <td>7.15</td>\n",
       "      <td>Citibike</td>\n",
       "    </tr>\n",
       "    <tr>\n",
       "      <th>...</th>\n",
       "      <td>...</td>\n",
       "      <td>...</td>\n",
       "      <td>...</td>\n",
       "      <td>...</td>\n",
       "      <td>...</td>\n",
       "      <td>...</td>\n",
       "      <td>...</td>\n",
       "      <td>...</td>\n",
       "    </tr>\n",
       "    <tr>\n",
       "      <th>348</th>\n",
       "      <td>5/24/19</td>\n",
       "      <td>CP BL</td>\n",
       "      <td>6.79</td>\n",
       "      <td>NaN</td>\n",
       "      <td>47.0</td>\n",
       "      <td>0.78</td>\n",
       "      <td>8.67</td>\n",
       "      <td>Specialized</td>\n",
       "    </tr>\n",
       "    <tr>\n",
       "      <th>349</th>\n",
       "      <td>7/29/20</td>\n",
       "      <td>Wards Island</td>\n",
       "      <td>12.55</td>\n",
       "      <td>1.0</td>\n",
       "      <td>43.0</td>\n",
       "      <td>1.72</td>\n",
       "      <td>7.31</td>\n",
       "      <td>Specialized</td>\n",
       "    </tr>\n",
       "    <tr>\n",
       "      <th>350</th>\n",
       "      <td>10/20/16</td>\n",
       "      <td>Citibike from Work</td>\n",
       "      <td>0.89</td>\n",
       "      <td>NaN</td>\n",
       "      <td>6.0</td>\n",
       "      <td>0.10</td>\n",
       "      <td>8.90</td>\n",
       "      <td>Citibike</td>\n",
       "    </tr>\n",
       "    <tr>\n",
       "      <th>351</th>\n",
       "      <td>8/6/19</td>\n",
       "      <td>CP BL Up Down WS</td>\n",
       "      <td>15.00</td>\n",
       "      <td>1.0</td>\n",
       "      <td>46.0</td>\n",
       "      <td>1.77</td>\n",
       "      <td>8.49</td>\n",
       "      <td>Specialized</td>\n",
       "    </tr>\n",
       "    <tr>\n",
       "      <th>352</th>\n",
       "      <td>10/11/16</td>\n",
       "      <td>Citibike to Work</td>\n",
       "      <td>1.33</td>\n",
       "      <td>NaN</td>\n",
       "      <td>11.0</td>\n",
       "      <td>0.18</td>\n",
       "      <td>7.25</td>\n",
       "      <td>Citibike</td>\n",
       "    </tr>\n",
       "  </tbody>\n",
       "</table>\n",
       "<p>353 rows × 8 columns</p>\n",
       "</div>"
      ],
      "text/plain": [
       "         Date         Destination  Miles  Hours  Minutes  Duration  Speed  \\\n",
       "0      6/7/19               CP BL   7.47    NaN     54.0      0.90   8.30   \n",
       "1     7/24/19       Down ES Up WS  16.29    2.0     36.0      2.60   6.27   \n",
       "2     7/26/19     To Essex Market   3.14    NaN     27.0      0.45   6.98   \n",
       "3     9/23/16    Citibike to Work   1.10    NaN     11.0      0.18   6.00   \n",
       "4      8/9/16    Citibike to Work   1.31    NaN     11.0      0.18   7.15   \n",
       "..        ...                 ...    ...    ...      ...       ...    ...   \n",
       "348   5/24/19               CP BL   6.79    NaN     47.0      0.78   8.67   \n",
       "349   7/29/20        Wards Island  12.55    1.0     43.0      1.72   7.31   \n",
       "350  10/20/16  Citibike from Work   0.89    NaN      6.0      0.10   8.90   \n",
       "351    8/6/19    CP BL Up Down WS  15.00    1.0     46.0      1.77   8.49   \n",
       "352  10/11/16    Citibike to Work   1.33    NaN     11.0      0.18   7.25   \n",
       "\n",
       "            Type  \n",
       "0    Specialized  \n",
       "1    Specialized  \n",
       "2       Citibike  \n",
       "3       Citibike  \n",
       "4       Citibike  \n",
       "..           ...  \n",
       "348  Specialized  \n",
       "349  Specialized  \n",
       "350     Citibike  \n",
       "351  Specialized  \n",
       "352     Citibike  \n",
       "\n",
       "[353 rows x 8 columns]"
      ]
     },
     "execution_count": 4,
     "metadata": {},
     "output_type": "execute_result"
    }
   ],
   "source": [
    "# Load base data to dataframe\n",
    "all_data_file = 'all_data.csv'\n",
    "all_df = pd.read_csv(os.path.join(data_path, all_data_file))\n",
    "all_df"
   ]
  },
  {
   "cell_type": "code",
   "execution_count": 5,
   "metadata": {},
   "outputs": [],
   "source": [
    "# Defining fields to use\n",
    "columns = ['Miles', 'Duration', 'Speed','Type']\n",
    "# target = ['Type']"
   ]
  },
  {
   "cell_type": "code",
   "execution_count": 6,
   "metadata": {},
   "outputs": [
    {
     "data": {
      "text/html": [
       "<div>\n",
       "<style scoped>\n",
       "    .dataframe tbody tr th:only-of-type {\n",
       "        vertical-align: middle;\n",
       "    }\n",
       "\n",
       "    .dataframe tbody tr th {\n",
       "        vertical-align: top;\n",
       "    }\n",
       "\n",
       "    .dataframe thead th {\n",
       "        text-align: right;\n",
       "    }\n",
       "</style>\n",
       "<table border=\"1\" class=\"dataframe\">\n",
       "  <thead>\n",
       "    <tr style=\"text-align: right;\">\n",
       "      <th></th>\n",
       "      <th>Miles</th>\n",
       "      <th>Duration</th>\n",
       "      <th>Speed</th>\n",
       "      <th>Type</th>\n",
       "    </tr>\n",
       "  </thead>\n",
       "  <tbody>\n",
       "    <tr>\n",
       "      <th>0</th>\n",
       "      <td>7.47</td>\n",
       "      <td>0.90</td>\n",
       "      <td>8.30</td>\n",
       "      <td>Specialized</td>\n",
       "    </tr>\n",
       "    <tr>\n",
       "      <th>1</th>\n",
       "      <td>16.29</td>\n",
       "      <td>2.60</td>\n",
       "      <td>6.27</td>\n",
       "      <td>Specialized</td>\n",
       "    </tr>\n",
       "    <tr>\n",
       "      <th>2</th>\n",
       "      <td>3.14</td>\n",
       "      <td>0.45</td>\n",
       "      <td>6.98</td>\n",
       "      <td>Citibike</td>\n",
       "    </tr>\n",
       "    <tr>\n",
       "      <th>3</th>\n",
       "      <td>1.10</td>\n",
       "      <td>0.18</td>\n",
       "      <td>6.00</td>\n",
       "      <td>Citibike</td>\n",
       "    </tr>\n",
       "    <tr>\n",
       "      <th>4</th>\n",
       "      <td>1.31</td>\n",
       "      <td>0.18</td>\n",
       "      <td>7.15</td>\n",
       "      <td>Citibike</td>\n",
       "    </tr>\n",
       "    <tr>\n",
       "      <th>...</th>\n",
       "      <td>...</td>\n",
       "      <td>...</td>\n",
       "      <td>...</td>\n",
       "      <td>...</td>\n",
       "    </tr>\n",
       "    <tr>\n",
       "      <th>348</th>\n",
       "      <td>6.79</td>\n",
       "      <td>0.78</td>\n",
       "      <td>8.67</td>\n",
       "      <td>Specialized</td>\n",
       "    </tr>\n",
       "    <tr>\n",
       "      <th>349</th>\n",
       "      <td>12.55</td>\n",
       "      <td>1.72</td>\n",
       "      <td>7.31</td>\n",
       "      <td>Specialized</td>\n",
       "    </tr>\n",
       "    <tr>\n",
       "      <th>350</th>\n",
       "      <td>0.89</td>\n",
       "      <td>0.10</td>\n",
       "      <td>8.90</td>\n",
       "      <td>Citibike</td>\n",
       "    </tr>\n",
       "    <tr>\n",
       "      <th>351</th>\n",
       "      <td>15.00</td>\n",
       "      <td>1.77</td>\n",
       "      <td>8.49</td>\n",
       "      <td>Specialized</td>\n",
       "    </tr>\n",
       "    <tr>\n",
       "      <th>352</th>\n",
       "      <td>1.33</td>\n",
       "      <td>0.18</td>\n",
       "      <td>7.25</td>\n",
       "      <td>Citibike</td>\n",
       "    </tr>\n",
       "  </tbody>\n",
       "</table>\n",
       "<p>353 rows × 4 columns</p>\n",
       "</div>"
      ],
      "text/plain": [
       "     Miles  Duration  Speed         Type\n",
       "0     7.47      0.90   8.30  Specialized\n",
       "1    16.29      2.60   6.27  Specialized\n",
       "2     3.14      0.45   6.98     Citibike\n",
       "3     1.10      0.18   6.00     Citibike\n",
       "4     1.31      0.18   7.15     Citibike\n",
       "..     ...       ...    ...          ...\n",
       "348   6.79      0.78   8.67  Specialized\n",
       "349  12.55      1.72   7.31  Specialized\n",
       "350   0.89      0.10   8.90     Citibike\n",
       "351  15.00      1.77   8.49  Specialized\n",
       "352   1.33      0.18   7.25     Citibike\n",
       "\n",
       "[353 rows x 4 columns]"
      ]
     },
     "execution_count": 6,
     "metadata": {},
     "output_type": "execute_result"
    }
   ],
   "source": [
    "# Create Dataframe with desired columns\n",
    "bike_df = all_df.loc[:,columns].copy()\n",
    "bike_df"
   ]
  },
  {
   "cell_type": "code",
   "execution_count": 7,
   "metadata": {},
   "outputs": [],
   "source": [
    "# Create Dataframe with desired columns\n",
    "# Demonstrating different way to do it\n",
    "#new2_df = all_df[['Miles', 'Duration', 'Speed', 'Type']]\n",
    "#new2_df"
   ]
  },
  {
   "cell_type": "code",
   "execution_count": 8,
   "metadata": {},
   "outputs": [],
   "source": [
    "# Splitting out Features and Target\n",
    "y = bike_df[\"Type\"]\n",
    "X = bike_df.drop(columns=\"Type\")"
   ]
  },
  {
   "cell_type": "code",
   "execution_count": 9,
   "metadata": {},
   "outputs": [],
   "source": [
    "# Splitting out Training and Testing data\n",
    "from sklearn.model_selection import train_test_split\n",
    "X_train, X_test, y_train, y_test = train_test_split(X, y, random_state=2, stratify=y)"
   ]
  },
  {
   "cell_type": "code",
   "execution_count": 10,
   "metadata": {},
   "outputs": [
    {
     "data": {
      "text/plain": [
       "(264, 3)"
      ]
     },
     "execution_count": 10,
     "metadata": {},
     "output_type": "execute_result"
    }
   ],
   "source": [
    "# Checking training data shape\n",
    "X_train.shape"
   ]
  },
  {
   "cell_type": "code",
   "execution_count": 11,
   "metadata": {},
   "outputs": [
    {
     "data": {
      "text/plain": [
       "(89, 3)"
      ]
     },
     "execution_count": 11,
     "metadata": {},
     "output_type": "execute_result"
    }
   ],
   "source": [
    "# Checking testing data shape\n",
    "X_test.shape"
   ]
  },
  {
   "cell_type": "code",
   "execution_count": 12,
   "metadata": {},
   "outputs": [],
   "source": [
    "# Creating the Logistic Regression Model\n",
    "from sklearn.linear_model import LogisticRegression\n",
    "classifier = LogisticRegression(solver='lbfgs', max_iter=200, random_state=2)"
   ]
  },
  {
   "cell_type": "code",
   "execution_count": 13,
   "metadata": {},
   "outputs": [
    {
     "data": {
      "text/plain": [
       "LogisticRegression(max_iter=200, random_state=2)"
      ]
     },
     "execution_count": 13,
     "metadata": {},
     "output_type": "execute_result"
    }
   ],
   "source": [
    "# Training the Model\n",
    "classifier.fit(X_train, y_train)"
   ]
  },
  {
   "cell_type": "code",
   "execution_count": 14,
   "metadata": {},
   "outputs": [],
   "source": [
    "# Create Predictions\n",
    "y_pred = classifier.predict(X_test)"
   ]
  },
  {
   "cell_type": "code",
   "execution_count": 15,
   "metadata": {},
   "outputs": [
    {
     "name": "stdout",
     "output_type": "stream",
     "text": [
      "1.0\n"
     ]
    }
   ],
   "source": [
    "# Get accuracy score\n",
    "from sklearn.metrics import accuracy_score\n",
    "print(accuracy_score(y_test, y_pred))"
   ]
  },
  {
   "cell_type": "code",
   "execution_count": null,
   "metadata": {},
   "outputs": [],
   "source": []
  }
 ],
 "metadata": {
  "kernelspec": {
   "display_name": "mlenv",
   "language": "python",
   "name": "mlenv"
  },
  "language_info": {
   "codemirror_mode": {
    "name": "ipython",
    "version": 3
   },
   "file_extension": ".py",
   "mimetype": "text/x-python",
   "name": "python",
   "nbconvert_exporter": "python",
   "pygments_lexer": "ipython3",
   "version": "3.7.9"
  }
 },
 "nbformat": 4,
 "nbformat_minor": 4
}
